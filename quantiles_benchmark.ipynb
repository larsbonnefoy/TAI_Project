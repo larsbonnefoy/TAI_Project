{
 "cells": [
  {
   "cell_type": "code",
   "execution_count": 6,
   "metadata": {
    "id": "AdSZmbQtBz4N"
   },
   "outputs": [],
   "source": [
    "import pandas as pd\n",
    "import numpy as np\n",
    "import math"
   ]
  },
  {
   "cell_type": "code",
   "execution_count": 7,
   "metadata": {
    "colab": {
     "base_uri": "https://localhost:8080/",
     "height": 790
    },
    "id": "J3LYg8XBBz4O",
    "outputId": "9a4c8c59-ebfe-44d7-9b41-f7122e1d81f8"
   },
   "outputs": [
    {
     "name": "stdout",
     "output_type": "stream",
     "text": [
      "2024-03-16\n"
     ]
    },
    {
     "data": {
      "text/html": [
       "<div>\n",
       "<style scoped>\n",
       "    .dataframe tbody tr th:only-of-type {\n",
       "        vertical-align: middle;\n",
       "    }\n",
       "\n",
       "    .dataframe tbody tr th {\n",
       "        vertical-align: top;\n",
       "    }\n",
       "\n",
       "    .dataframe thead th {\n",
       "        text-align: right;\n",
       "    }\n",
       "</style>\n",
       "<table border=\"1\" class=\"dataframe\">\n",
       "  <thead>\n",
       "    <tr style=\"text-align: right;\">\n",
       "      <th></th>\n",
       "      <th>Unnamed: 0</th>\n",
       "      <th>time</th>\n",
       "      <th>number</th>\n",
       "      <th>t2m</th>\n",
       "    </tr>\n",
       "  </thead>\n",
       "  <tbody>\n",
       "    <tr>\n",
       "      <th>0</th>\n",
       "      <td>0</td>\n",
       "      <td>2024-03-16 00:00:00</td>\n",
       "      <td>1</td>\n",
       "      <td>284.158582</td>\n",
       "    </tr>\n",
       "    <tr>\n",
       "      <th>1</th>\n",
       "      <td>1</td>\n",
       "      <td>2024-03-16 00:00:00</td>\n",
       "      <td>2</td>\n",
       "      <td>284.101156</td>\n",
       "    </tr>\n",
       "    <tr>\n",
       "      <th>2</th>\n",
       "      <td>2</td>\n",
       "      <td>2024-03-16 00:00:00</td>\n",
       "      <td>3</td>\n",
       "      <td>284.069274</td>\n",
       "    </tr>\n",
       "    <tr>\n",
       "      <th>3</th>\n",
       "      <td>3</td>\n",
       "      <td>2024-03-16 00:00:00</td>\n",
       "      <td>4</td>\n",
       "      <td>284.199158</td>\n",
       "    </tr>\n",
       "    <tr>\n",
       "      <th>4</th>\n",
       "      <td>4</td>\n",
       "      <td>2024-03-16 00:00:00</td>\n",
       "      <td>5</td>\n",
       "      <td>284.273234</td>\n",
       "    </tr>\n",
       "    <tr>\n",
       "      <th>...</th>\n",
       "      <td>...</td>\n",
       "      <td>...</td>\n",
       "      <td>...</td>\n",
       "      <td>...</td>\n",
       "    </tr>\n",
       "    <tr>\n",
       "      <th>1445</th>\n",
       "      <td>1445</td>\n",
       "      <td>2024-03-23 00:00:00</td>\n",
       "      <td>46</td>\n",
       "      <td>283.045167</td>\n",
       "    </tr>\n",
       "    <tr>\n",
       "      <th>1446</th>\n",
       "      <td>1446</td>\n",
       "      <td>2024-03-23 00:00:00</td>\n",
       "      <td>47</td>\n",
       "      <td>279.778507</td>\n",
       "    </tr>\n",
       "    <tr>\n",
       "      <th>1447</th>\n",
       "      <td>1447</td>\n",
       "      <td>2024-03-23 00:00:00</td>\n",
       "      <td>48</td>\n",
       "      <td>282.497487</td>\n",
       "    </tr>\n",
       "    <tr>\n",
       "      <th>1448</th>\n",
       "      <td>1448</td>\n",
       "      <td>2024-03-23 00:00:00</td>\n",
       "      <td>49</td>\n",
       "      <td>280.191393</td>\n",
       "    </tr>\n",
       "    <tr>\n",
       "      <th>1449</th>\n",
       "      <td>1449</td>\n",
       "      <td>2024-03-23 00:00:00</td>\n",
       "      <td>50</td>\n",
       "      <td>283.069322</td>\n",
       "    </tr>\n",
       "  </tbody>\n",
       "</table>\n",
       "<p>1450 rows × 4 columns</p>\n",
       "</div>"
      ],
      "text/plain": [
       "      Unnamed: 0                 time  number         t2m\n",
       "0              0  2024-03-16 00:00:00       1  284.158582\n",
       "1              1  2024-03-16 00:00:00       2  284.101156\n",
       "2              2  2024-03-16 00:00:00       3  284.069274\n",
       "3              3  2024-03-16 00:00:00       4  284.199158\n",
       "4              4  2024-03-16 00:00:00       5  284.273234\n",
       "...          ...                  ...     ...         ...\n",
       "1445        1445  2024-03-23 00:00:00      46  283.045167\n",
       "1446        1446  2024-03-23 00:00:00      47  279.778507\n",
       "1447        1447  2024-03-23 00:00:00      48  282.497487\n",
       "1448        1448  2024-03-23 00:00:00      49  280.191393\n",
       "1449        1449  2024-03-23 00:00:00      50  283.069322\n",
       "\n",
       "[1450 rows x 4 columns]"
      ]
     },
     "execution_count": 7,
     "metadata": {},
     "output_type": "execute_result"
    }
   ],
   "source": [
    "# Creation of the dataframe and Dropping the useless features\n",
    "to_open = \"Corr-20240316_TheBlaze.csv\"\n",
    "output_name = to_open.split('-')[1]\n",
    "date = output_name.split('_')[0][:4] + \"-\" + output_name.split('_')[0][4:6] + \"-\" + output_name.split('_')[0][6:8]\n",
    "print(date)\n",
    "df = pd.read_csv(f\"weekly_corrected//{to_open}\")\n",
    "df"
   ]
  },
  {
   "cell_type": "code",
   "execution_count": 8,
   "metadata": {
    "id": "e-juypJBENJs"
   },
   "outputs": [],
   "source": [
    "df=df[['time','number','t2m']]"
   ]
  },
  {
   "cell_type": "code",
   "execution_count": 9,
   "metadata": {
    "colab": {
     "base_uri": "https://localhost:8080/",
     "height": 423
    },
    "id": "6mBiFvWREqO6",
    "outputId": "46d30243-d128-45fa-817c-46fe74f6fdb8"
   },
   "outputs": [
    {
     "data": {
      "text/html": [
       "<div>\n",
       "<style scoped>\n",
       "    .dataframe tbody tr th:only-of-type {\n",
       "        vertical-align: middle;\n",
       "    }\n",
       "\n",
       "    .dataframe tbody tr th {\n",
       "        vertical-align: top;\n",
       "    }\n",
       "\n",
       "    .dataframe thead th {\n",
       "        text-align: right;\n",
       "    }\n",
       "</style>\n",
       "<table border=\"1\" class=\"dataframe\">\n",
       "  <thead>\n",
       "    <tr style=\"text-align: right;\">\n",
       "      <th></th>\n",
       "      <th>time</th>\n",
       "      <th>number</th>\n",
       "      <th>t2m</th>\n",
       "    </tr>\n",
       "  </thead>\n",
       "  <tbody>\n",
       "    <tr>\n",
       "      <th>0</th>\n",
       "      <td>2024-03-16 00:00:00</td>\n",
       "      <td>1</td>\n",
       "      <td>284.158582</td>\n",
       "    </tr>\n",
       "    <tr>\n",
       "      <th>1</th>\n",
       "      <td>2024-03-16 00:00:00</td>\n",
       "      <td>2</td>\n",
       "      <td>284.101156</td>\n",
       "    </tr>\n",
       "    <tr>\n",
       "      <th>2</th>\n",
       "      <td>2024-03-16 00:00:00</td>\n",
       "      <td>3</td>\n",
       "      <td>284.069274</td>\n",
       "    </tr>\n",
       "    <tr>\n",
       "      <th>3</th>\n",
       "      <td>2024-03-16 00:00:00</td>\n",
       "      <td>4</td>\n",
       "      <td>284.199158</td>\n",
       "    </tr>\n",
       "    <tr>\n",
       "      <th>4</th>\n",
       "      <td>2024-03-16 00:00:00</td>\n",
       "      <td>5</td>\n",
       "      <td>284.273234</td>\n",
       "    </tr>\n",
       "    <tr>\n",
       "      <th>...</th>\n",
       "      <td>...</td>\n",
       "      <td>...</td>\n",
       "      <td>...</td>\n",
       "    </tr>\n",
       "    <tr>\n",
       "      <th>1445</th>\n",
       "      <td>2024-03-23 00:00:00</td>\n",
       "      <td>46</td>\n",
       "      <td>283.045167</td>\n",
       "    </tr>\n",
       "    <tr>\n",
       "      <th>1446</th>\n",
       "      <td>2024-03-23 00:00:00</td>\n",
       "      <td>47</td>\n",
       "      <td>279.778507</td>\n",
       "    </tr>\n",
       "    <tr>\n",
       "      <th>1447</th>\n",
       "      <td>2024-03-23 00:00:00</td>\n",
       "      <td>48</td>\n",
       "      <td>282.497487</td>\n",
       "    </tr>\n",
       "    <tr>\n",
       "      <th>1448</th>\n",
       "      <td>2024-03-23 00:00:00</td>\n",
       "      <td>49</td>\n",
       "      <td>280.191393</td>\n",
       "    </tr>\n",
       "    <tr>\n",
       "      <th>1449</th>\n",
       "      <td>2024-03-23 00:00:00</td>\n",
       "      <td>50</td>\n",
       "      <td>283.069322</td>\n",
       "    </tr>\n",
       "  </tbody>\n",
       "</table>\n",
       "<p>1450 rows × 3 columns</p>\n",
       "</div>"
      ],
      "text/plain": [
       "                     time  number         t2m\n",
       "0     2024-03-16 00:00:00       1  284.158582\n",
       "1     2024-03-16 00:00:00       2  284.101156\n",
       "2     2024-03-16 00:00:00       3  284.069274\n",
       "3     2024-03-16 00:00:00       4  284.199158\n",
       "4     2024-03-16 00:00:00       5  284.273234\n",
       "...                   ...     ...         ...\n",
       "1445  2024-03-23 00:00:00      46  283.045167\n",
       "1446  2024-03-23 00:00:00      47  279.778507\n",
       "1447  2024-03-23 00:00:00      48  282.497487\n",
       "1448  2024-03-23 00:00:00      49  280.191393\n",
       "1449  2024-03-23 00:00:00      50  283.069322\n",
       "\n",
       "[1450 rows x 3 columns]"
      ]
     },
     "execution_count": 9,
     "metadata": {},
     "output_type": "execute_result"
    }
   ],
   "source": [
    "df"
   ]
  },
  {
   "cell_type": "code",
   "execution_count": 10,
   "metadata": {
    "colab": {
     "base_uri": "https://localhost:8080/"
    },
    "id": "sHZpXt7gI_EA",
    "outputId": "27ff5551-1365-4fde-d19a-3b6183f9182a"
   },
   "outputs": [
    {
     "name": "stderr",
     "output_type": "stream",
     "text": [
      "/var/folders/lw/bnynzkxj0cq2wnbmqw0rvyzh0000gn/T/ipykernel_90639/836502028.py:1: SettingWithCopyWarning: \n",
      "A value is trying to be set on a copy of a slice from a DataFrame.\n",
      "Try using .loc[row_indexer,col_indexer] = value instead\n",
      "\n",
      "See the caveats in the documentation: https://pandas.pydata.org/pandas-docs/stable/user_guide/indexing.html#returning-a-view-versus-a-copy\n",
      "  df['t2m']=df['t2m']-273.15\n"
     ]
    }
   ],
   "source": [
    "df['t2m']=df['t2m']-273.15"
   ]
  },
  {
   "cell_type": "code",
   "execution_count": 11,
   "metadata": {
    "id": "EtGz46AIBz4P"
   },
   "outputs": [],
   "source": [
    "# Creation of the results Dataframes which will be made into one df later on\n",
    "result_t2m  = pd.DataFrame(columns=['forecast_date','target','horizon','q0.025','q0.25','q0.5','q0.75','q0.975'])"
   ]
  },
  {
   "cell_type": "code",
   "execution_count": 12,
   "metadata": {
    "id": "CQPPJZ_00FVN"
   },
   "outputs": [],
   "source": [
    "times=df.time.unique()\n",
    "number_of_hours=0\n",
    "#defined earlier\n",
    "#date = \"2023-03-15\"\n",
    "row_index=0\n",
    "for t in times:\n",
    "  df_=df[df['time']==t]\n",
    "  t2m = []\n",
    "  t2m=df_.t2m.values\n",
    "\n",
    "\n",
    "  horizon = str(number_of_hours)+' hour'\n",
    "  result_t2m.loc[row_index]  = [date, 't2m', horizon , np.quantile(t2m,0.025),np.quantile(t2m,0.25),np.quantile(t2m,0.5),np.quantile(t2m,0.75),np.quantile(t2m,0.975)]\n",
    "  row_index=row_index+1\n",
    "  number_of_hours = number_of_hours + 6\n"
   ]
  },
  {
   "cell_type": "code",
   "execution_count": 13,
   "metadata": {
    "id": "vanURp7zBz4P"
   },
   "outputs": [],
   "source": [
    "# Dataframes concatination and result exportation\n",
    "result_t2m = pd.DataFrame.to_csv(result_t2m,f\"weekly_corrected/{output_name}\", index=False)"
   ]
  },
  {
   "cell_type": "code",
   "execution_count": 14,
   "metadata": {
    "colab": {
     "base_uri": "https://localhost:8080/",
     "height": 958
    },
    "id": "dn97UmegPTwJ",
    "outputId": "ec7e4d2e-6c52-4c80-f9f0-f58417e29056"
   },
   "outputs": [],
   "source": [
    "result_t2m"
   ]
  }
 ],
 "metadata": {
  "colab": {
   "provenance": []
  },
  "kernelspec": {
   "display_name": "venv-python3-kernel",
   "language": "python",
   "name": "venv-python3-kernel"
  },
  "language_info": {
   "codemirror_mode": {
    "name": "ipython",
    "version": 3
   },
   "file_extension": ".py",
   "mimetype": "text/x-python",
   "name": "python",
   "nbconvert_exporter": "python",
   "pygments_lexer": "ipython3",
   "version": "3.11.7"
  },
  "vscode": {
   "interpreter": {
    "hash": "8483299ba4ad91f71d1613adff2c1aaaa5576acdd3fc58090a29bd27ea923125"
   }
  }
 },
 "nbformat": 4,
 "nbformat_minor": 4
}
