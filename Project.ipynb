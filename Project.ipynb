{
 "cells": [
  {
   "cell_type": "markdown",
   "id": "74939c98-908f-4f81-8853-268f49d1afde",
   "metadata": {},
   "source": [
    "# Project 2 - Forecast correction\n",
    "\n",
    "//TODO \n",
    "[] Understand Assignment\n",
    "[] Look at data"
   ]
  },
  {
   "cell_type": "code",
   "execution_count": 1,
   "id": "46930c6a-f894-4e3f-95f6-ac130fed14d4",
   "metadata": {},
   "outputs": [
    {
     "name": "stdout",
     "output_type": "stream",
     "text": [
      "hello\n"
     ]
    }
   ],
   "source": []
  },
  {
   "cell_type": "code",
   "execution_count": null,
   "id": "40094ef9-2449-4ee9-b8ef-4f61d48cadbd",
   "metadata": {},
   "outputs": [],
   "source": []
  }
 ],
 "metadata": {
  "kernelspec": {
   "display_name": "venv-python3-kernel",
   "language": "python",
   "name": "venv-python3-kernel"
  },
  "language_info": {
   "codemirror_mode": {
    "name": "ipython",
    "version": 3
   },
   "file_extension": ".py",
   "mimetype": "text/x-python",
   "name": "python",
   "nbconvert_exporter": "python",
   "pygments_lexer": "ipython3",
   "version": "3.11.7"
  }
 },
 "nbformat": 4,
 "nbformat_minor": 5
}
